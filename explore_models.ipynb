{
 "cells": [
  {
   "cell_type": "code",
   "execution_count": 3,
   "id": "e6115f1d",
   "metadata": {},
   "outputs": [
    {
     "data": {
      "text/plain": [
       "{'ModelPackageSummaryList': [{'ModelPackageGroupName': 'MnistModelPackageGroupName',\n",
       "   'ModelPackageVersion': 3,\n",
       "   'ModelPackageArn': 'arn:aws:sagemaker:ap-southeast-2:993630082325:model-package/MnistModelPackageGroupName/3',\n",
       "   'CreationTime': datetime.datetime(2025, 5, 25, 23, 42, 55, 853000, tzinfo=tzlocal()),\n",
       "   'ModelPackageStatus': 'Completed',\n",
       "   'ModelApprovalStatus': 'Approved'}],\n",
       " 'ResponseMetadata': {'RequestId': '361275e6-9dd4-415e-88f4-a4026c7ae3b3',\n",
       "  'HTTPStatusCode': 200,\n",
       "  'HTTPHeaders': {'x-amzn-requestid': '361275e6-9dd4-415e-88f4-a4026c7ae3b3',\n",
       "   'content-type': 'application/x-amz-json-1.1',\n",
       "   'content-length': '315',\n",
       "   'date': 'Thu, 29 May 2025 15:15:08 GMT'},\n",
       "  'RetryAttempts': 0}}"
      ]
     },
     "execution_count": 3,
     "metadata": {},
     "output_type": "execute_result"
    }
   ],
   "source": [
    "import boto3\n",
    "import json\n",
    "\n",
    "sm_client = boto3.client(\"sagemaker\")\n",
    "model_package_group_name = \"MnistModelPackageGroupName\"\n",
    "resp = sm_client.list_model_packages(ModelPackageGroupName=model_package_group_name, ModelApprovalStatus=\"Approved\")\n",
    "resp"
   ]
  },
  {
   "cell_type": "code",
   "execution_count": 5,
   "id": "a6f5ebcb",
   "metadata": {},
   "outputs": [
    {
     "data": {
      "text/plain": [
       "[{'ModelPackageVersion': 3,\n",
       "  'ModelPackageArn': 'arn:aws:sagemaker:ap-southeast-2:993630082325:model-package/MnistModelPackageGroupName/3',\n",
       "  'CreationTime': '2025-05-25T23:42:55.853000+08:00'}]"
      ]
     },
     "execution_count": 5,
     "metadata": {},
     "output_type": "execute_result"
    }
   ],
   "source": [
    "[\n",
    "    {\n",
    "        \"ModelPackageVersion\": it[\"ModelPackageVersion\"],\n",
    "        \"ModelPackageArn\": it[\"ModelPackageArn\"],\n",
    "        \"CreationTime\": it[\"CreationTime\"].isoformat(),\n",
    "    } for it in resp[\"ModelPackageSummaryList\"]\n",
    "]"
   ]
  },
  {
   "cell_type": "code",
   "execution_count": 2,
   "id": "ae008fd0",
   "metadata": {},
   "outputs": [
    {
     "ename": "ClientError",
     "evalue": "An error occurred (ValidationException) when calling the DescribeModelPackage operation: ModelPackage arn:aws:sagemaker:ap-southeast-2:993630082325:model-package/invalid does not exist.",
     "output_type": "error",
     "traceback": [
      "\u001b[0;31m---------------------------------------------------------------------------\u001b[0m",
      "\u001b[0;31mClientError\u001b[0m                               Traceback (most recent call last)",
      "Cell \u001b[0;32mIn[2], line 1\u001b[0m\n\u001b[0;32m----> 1\u001b[0m res \u001b[38;5;241m=\u001b[39m \u001b[43msm_client\u001b[49m\u001b[38;5;241;43m.\u001b[39;49m\u001b[43mdescribe_model_package\u001b[49m\u001b[43m(\u001b[49m\n\u001b[1;32m      2\u001b[0m \u001b[43m    \u001b[49m\u001b[43mModelPackageName\u001b[49m\u001b[38;5;241;43m=\u001b[39;49m\u001b[38;5;124;43m\"\u001b[39;49m\u001b[38;5;124;43minvalid\u001b[39;49m\u001b[38;5;124;43m\"\u001b[39;49m\n\u001b[1;32m      3\u001b[0m \u001b[43m)\u001b[49m\n\u001b[1;32m      4\u001b[0m res\n",
      "File \u001b[0;32m/workspaces/aws-mlops-playground/.venv/lib/python3.10/site-packages/botocore/client.py:595\u001b[0m, in \u001b[0;36mClientCreator._create_api_method.<locals>._api_call\u001b[0;34m(self, *args, **kwargs)\u001b[0m\n\u001b[1;32m    591\u001b[0m     \u001b[38;5;28;01mraise\u001b[39;00m \u001b[38;5;167;01mTypeError\u001b[39;00m(\n\u001b[1;32m    592\u001b[0m         \u001b[38;5;124mf\u001b[39m\u001b[38;5;124m\"\u001b[39m\u001b[38;5;132;01m{\u001b[39;00mpy_operation_name\u001b[38;5;132;01m}\u001b[39;00m\u001b[38;5;124m() only accepts keyword arguments.\u001b[39m\u001b[38;5;124m\"\u001b[39m\n\u001b[1;32m    593\u001b[0m     )\n\u001b[1;32m    594\u001b[0m \u001b[38;5;66;03m# The \"self\" in this scope is referring to the BaseClient.\u001b[39;00m\n\u001b[0;32m--> 595\u001b[0m \u001b[38;5;28;01mreturn\u001b[39;00m \u001b[38;5;28;43mself\u001b[39;49m\u001b[38;5;241;43m.\u001b[39;49m\u001b[43m_make_api_call\u001b[49m\u001b[43m(\u001b[49m\u001b[43moperation_name\u001b[49m\u001b[43m,\u001b[49m\u001b[43m \u001b[49m\u001b[43mkwargs\u001b[49m\u001b[43m)\u001b[49m\n",
      "File \u001b[0;32m/workspaces/aws-mlops-playground/.venv/lib/python3.10/site-packages/botocore/context.py:123\u001b[0m, in \u001b[0;36mwith_current_context.<locals>.decorator.<locals>.wrapper\u001b[0;34m(*args, **kwargs)\u001b[0m\n\u001b[1;32m    121\u001b[0m \u001b[38;5;28;01mif\u001b[39;00m hook:\n\u001b[1;32m    122\u001b[0m     hook()\n\u001b[0;32m--> 123\u001b[0m \u001b[38;5;28;01mreturn\u001b[39;00m \u001b[43mfunc\u001b[49m\u001b[43m(\u001b[49m\u001b[38;5;241;43m*\u001b[39;49m\u001b[43margs\u001b[49m\u001b[43m,\u001b[49m\u001b[43m \u001b[49m\u001b[38;5;241;43m*\u001b[39;49m\u001b[38;5;241;43m*\u001b[39;49m\u001b[43mkwargs\u001b[49m\u001b[43m)\u001b[49m\n",
      "File \u001b[0;32m/workspaces/aws-mlops-playground/.venv/lib/python3.10/site-packages/botocore/client.py:1058\u001b[0m, in \u001b[0;36mBaseClient._make_api_call\u001b[0;34m(self, operation_name, api_params)\u001b[0m\n\u001b[1;32m   1054\u001b[0m     error_code \u001b[38;5;241m=\u001b[39m error_info\u001b[38;5;241m.\u001b[39mget(\u001b[38;5;124m\"\u001b[39m\u001b[38;5;124mQueryErrorCode\u001b[39m\u001b[38;5;124m\"\u001b[39m) \u001b[38;5;129;01mor\u001b[39;00m error_info\u001b[38;5;241m.\u001b[39mget(\n\u001b[1;32m   1055\u001b[0m         \u001b[38;5;124m\"\u001b[39m\u001b[38;5;124mCode\u001b[39m\u001b[38;5;124m\"\u001b[39m\n\u001b[1;32m   1056\u001b[0m     )\n\u001b[1;32m   1057\u001b[0m     error_class \u001b[38;5;241m=\u001b[39m \u001b[38;5;28mself\u001b[39m\u001b[38;5;241m.\u001b[39mexceptions\u001b[38;5;241m.\u001b[39mfrom_code(error_code)\n\u001b[0;32m-> 1058\u001b[0m     \u001b[38;5;28;01mraise\u001b[39;00m error_class(parsed_response, operation_name)\n\u001b[1;32m   1059\u001b[0m \u001b[38;5;28;01melse\u001b[39;00m:\n\u001b[1;32m   1060\u001b[0m     \u001b[38;5;28;01mreturn\u001b[39;00m parsed_response\n",
      "\u001b[0;31mClientError\u001b[0m: An error occurred (ValidationException) when calling the DescribeModelPackage operation: ModelPackage arn:aws:sagemaker:ap-southeast-2:993630082325:model-package/invalid does not exist."
     ]
    }
   ],
   "source": [
    "res = sm_client.describe_model_package(\n",
    "    ModelPackageName=\"invalid\"\n",
    ")\n",
    "res"
   ]
  },
  {
   "cell_type": "code",
   "execution_count": 3,
   "id": "809d8e5b",
   "metadata": {},
   "outputs": [
    {
     "data": {
      "text/plain": [
       "{'ModelPackageGroupName': 'MnistModelPackageGroupName',\n",
       " 'ModelPackageVersion': 3,\n",
       " 'ModelPackageArn': 'arn:aws:sagemaker:ap-southeast-2:993630082325:model-package/MnistModelPackageGroupName/3',\n",
       " 'CreationTime': datetime.datetime(2025, 5, 25, 23, 42, 55, 853000, tzinfo=tzlocal()),\n",
       " 'InferenceSpecification': {'Containers': [{'Image': '763104351884.dkr.ecr.ap-southeast-2.amazonaws.com/pytorch-training:2.6-cpu-py312',\n",
       "    'ImageDigest': 'sha256:83d9076ecb7f84d3d293aadc9bc7d56d4d9a70ba534c58f126192448b88fe5b7',\n",
       "    'ModelDataUrl': 's3://sagemaker-ap-southeast-2-993630082325/models/mnist/pipelines-q7lwddalt01t-MINIST-Train-5sHsaJrZoO/output/model.tar.gz',\n",
       "    'Environment': {},\n",
       "    'ModelDataETag': '1293b539410b7f2f9189bf38c094e168-2'}]},\n",
       " 'ModelPackageStatus': 'Completed',\n",
       " 'ModelPackageStatusDetails': {'ValidationStatuses': [],\n",
       "  'ImageScanStatuses': []},\n",
       " 'CertifyForMarketplace': False,\n",
       " 'ModelApprovalStatus': 'Approved',\n",
       " 'CreatedBy': {'IamIdentity': {'Arn': 'arn:aws:sts::993630082325:assumed-role/AmazonSageMaker-ExecutionRole-20250516T191424/sagemaker-pipeline-q7lwddalt01t-MnistRegisterModel-R',\n",
       "   'PrincipalId': 'AROA6OWHX2UKZAXJB5RER:sagemaker-pipeline-q7lwddalt01t-MnistRegisterModel-R'}},\n",
       " 'MetadataProperties': {'GeneratedBy': 'arn:aws:sagemaker:ap-southeast-2:993630082325:pipeline/mnist-pipeline/execution/q7lwddalt01t'},\n",
       " 'ModelMetrics': {'ModelQuality': {'Statistics': {'ContentType': 'application/json',\n",
       "    'S3Uri': 's3://sagemaker-ap-southeast-2-993630082325/MNIST-Pipeline-substeps/mnist-eval-2025-05-25-15-30-21-454/output/evaluation/evaluation.json'}},\n",
       "  'Bias': {},\n",
       "  'Explainability': {}},\n",
       " 'LastModifiedTime': datetime.datetime(2025, 5, 25, 23, 44, 55, 686000, tzinfo=tzlocal()),\n",
       " 'LastModifiedBy': {'UserProfileArn': 'arn:aws:sagemaker:ap-southeast-2:993630082325:user-profile/d-a2xojlzsmfuu/default-20250516T191423',\n",
       "  'UserProfileName': 'default-20250516T191423',\n",
       "  'DomainId': 'd-a2xojlzsmfuu',\n",
       "  'IamIdentity': {'Arn': 'arn:aws:sts::993630082325:assumed-role/AmazonSageMaker-ExecutionRole-20250516T191424/SageMaker',\n",
       "   'PrincipalId': 'AROA6OWHX2UKZAXJB5RER:SageMaker'}},\n",
       " 'ApprovalDescription': 'ok',\n",
       " 'SkipModelValidation': 'None',\n",
       " 'ModelCard': {'ModelCardContent': '{\"training_details\":{\"training_job_details\":{\"training_datasets\":[\"s3://sagemaker-ap-southeast-2-993630082325/MNIST-Pipeline-substeps/MNIST-Pipeline/q7lwddalt01t/MnistProcess/output/train\",\"s3://sagemaker-ap-southeast-2-993630082325/MNIST-Pipeline-substeps/MNIST-Pipeline/q7lwddalt01t/MnistProcess/output/validation\"],\"hyper_parameters\":[{\"name\":\"epochs\",\"value\":\"1\"},{\"name\":\"sagemaker_container_log_level\",\"value\":\"20\"},{\"name\":\"sagemaker_program\",\"value\":\"\\\\\"mnist.py\\\\\"\"},{\"name\":\"sagemaker_region\",\"value\":\"\\\\\"ap-southeast-2\\\\\"\"},{\"name\":\"sagemaker_submit_directory\",\"value\":\"\\\\\"s3://sagemaker-ap-southeast-2-993630082325/pytorch-training-2025-05-25-15-30-31-843/source/sourcedir.tar.gz\\\\\"\"}],\"training_environment\":{\"container_image\":[\"763104351884.dkr.ecr.ap-southeast-2.amazonaws.com/pytorch-training:2.6-cpu-py312\"]},\"training_arn\":\"arn:aws:sagemaker:ap-southeast-2:993630082325:training-job/pipelines-q7lwddalt01t-MINIST-Train-5sHsaJrZoO\"}},\"intended_uses\":{},\"model_overview\":{\"model_artifact\":[\"s3://sagemaker-ap-southeast-2-993630082325/models/mnist/pipelines-q7lwddalt01t-MINIST-Train-5sHsaJrZoO/output/model.tar.gz\"]},\"additional_information\":{},\"business_details\":{}}',\n",
       "  'ModelCardStatus': 'Draft'},\n",
       " 'ResponseMetadata': {'RequestId': '3093c92c-728e-459b-a152-1aea826392cd',\n",
       "  'HTTPStatusCode': 200,\n",
       "  'HTTPHeaders': {'x-amzn-requestid': '3093c92c-728e-459b-a152-1aea826392cd',\n",
       "   'content-type': 'application/x-amz-json-1.1',\n",
       "   'content-length': '3274',\n",
       "   'date': 'Mon, 26 May 2025 02:00:03 GMT'},\n",
       "  'RetryAttempts': 0}}"
      ]
     },
     "execution_count": 3,
     "metadata": {},
     "output_type": "execute_result"
    }
   ],
   "source": [
    "res = sm_client.describe_model_package(\n",
    "    ModelPackageName=\"arn:aws:sagemaker:ap-southeast-2:993630082325:model-package/MnistModelPackageGroupName/3\"\n",
    ")\n",
    "res"
   ]
  },
  {
   "cell_type": "code",
   "execution_count": 5,
   "id": "8867bf48",
   "metadata": {},
   "outputs": [
    {
     "data": {
      "text/plain": [
       "'s3://sagemaker-ap-southeast-2-993630082325/models/mnist/pipelines-q7lwddalt01t-MINIST-Train-5sHsaJrZoO/output/model.tar.gz'"
      ]
     },
     "execution_count": 5,
     "metadata": {},
     "output_type": "execute_result"
    }
   ],
   "source": [
    "url = res[\"InferenceSpecification\"][\"Containers\"][0][\"ModelDataUrl\"]\n",
    "url"
   ]
  },
  {
   "cell_type": "code",
   "execution_count": 6,
   "id": "e048b70c",
   "metadata": {},
   "outputs": [
    {
     "data": {
      "text/plain": [
       "{'ResponseMetadata': {'RequestId': 'AADV6XVW13G27M2R',\n",
       "  'HostId': 'ugc8Yueoios3dXZaGqS5r+tGxfgjMF68BP0gpeE1t30WhsNJtvSTvoWEU6VIRGbzon8fPhg+FH8=',\n",
       "  'HTTPStatusCode': 200,\n",
       "  'HTTPHeaders': {'x-amz-id-2': 'ugc8Yueoios3dXZaGqS5r+tGxfgjMF68BP0gpeE1t30WhsNJtvSTvoWEU6VIRGbzon8fPhg+FH8=',\n",
       "   'x-amz-request-id': 'AADV6XVW13G27M2R',\n",
       "   'date': 'Mon, 26 May 2025 02:09:33 GMT',\n",
       "   'last-modified': 'Sun, 25 May 2025 15:37:40 GMT',\n",
       "   'etag': '\"1293b539410b7f2f9189bf38c094e168-2\"',\n",
       "   'x-amz-checksum-crc32c': 'nG2Maw==-2',\n",
       "   'x-amz-checksum-type': 'COMPOSITE',\n",
       "   'x-amz-server-side-encryption': 'aws:kms',\n",
       "   'x-amz-server-side-encryption-aws-kms-key-id': 'arn:aws:kms:ap-southeast-2:993630082325:key/3fb9b2a5-7a9e-4359-9f74-635bf17f34c0',\n",
       "   'accept-ranges': 'bytes',\n",
       "   'content-type': 'binary/octet-stream',\n",
       "   'content-length': '8916164',\n",
       "   'server': 'AmazonS3'},\n",
       "  'RetryAttempts': 0},\n",
       " 'AcceptRanges': 'bytes',\n",
       " 'LastModified': datetime.datetime(2025, 5, 25, 15, 37, 40, tzinfo=tzutc()),\n",
       " 'ContentLength': 8916164,\n",
       " 'ETag': '\"1293b539410b7f2f9189bf38c094e168-2\"',\n",
       " 'ChecksumCRC32C': 'nG2Maw==-2',\n",
       " 'ChecksumType': 'COMPOSITE',\n",
       " 'ContentType': 'binary/octet-stream',\n",
       " 'ServerSideEncryption': 'aws:kms',\n",
       " 'Metadata': {},\n",
       " 'SSEKMSKeyId': 'arn:aws:kms:ap-southeast-2:993630082325:key/3fb9b2a5-7a9e-4359-9f74-635bf17f34c0',\n",
       " 'Body': <botocore.response.StreamingBody at 0x7f2b3433cd00>}"
      ]
     },
     "execution_count": 6,
     "metadata": {},
     "output_type": "execute_result"
    }
   ],
   "source": [
    "bucket, key = url.split('/',2)[-1].split('/',1)\n",
    "boto3.client(\"s3\").get_object(\n",
    "    Bucket=bucket,\n",
    "    Key=key\n",
    ")"
   ]
  }
 ],
 "metadata": {
  "kernelspec": {
   "display_name": ".venv",
   "language": "python",
   "name": "python3"
  },
  "language_info": {
   "codemirror_mode": {
    "name": "ipython",
    "version": 3
   },
   "file_extension": ".py",
   "mimetype": "text/x-python",
   "name": "python",
   "nbconvert_exporter": "python",
   "pygments_lexer": "ipython3",
   "version": "3.10.17"
  }
 },
 "nbformat": 4,
 "nbformat_minor": 5
}
