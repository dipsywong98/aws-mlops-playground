{
 "cells": [
  {
   "cell_type": "code",
   "execution_count": 1,
   "id": "e6115f1d",
   "metadata": {},
   "outputs": [
    {
     "data": {
      "text/plain": [
       "{'ModelPackageSummaryList': [{'ModelPackageGroupName': 'MnistModelPackageGroupName',\n",
       "   'ModelPackageVersion': 2,\n",
       "   'ModelPackageArn': 'arn:aws:sagemaker:ap-southeast-2:993630082325:model-package/MnistModelPackageGroupName/2',\n",
       "   'CreationTime': datetime.datetime(2025, 5, 25, 19, 20, 45, 8000, tzinfo=tzlocal()),\n",
       "   'ModelPackageStatus': 'Completed',\n",
       "   'ModelApprovalStatus': 'PendingManualApproval'},\n",
       "  {'ModelPackageGroupName': 'MnistModelPackageGroupName',\n",
       "   'ModelPackageVersion': 1,\n",
       "   'ModelPackageArn': 'arn:aws:sagemaker:ap-southeast-2:993630082325:model-package/MnistModelPackageGroupName/1',\n",
       "   'CreationTime': datetime.datetime(2025, 5, 25, 19, 9, 57, 947000, tzinfo=tzlocal()),\n",
       "   'ModelPackageStatus': 'Completed',\n",
       "   'ModelApprovalStatus': 'PendingManualApproval'}],\n",
       " 'ResponseMetadata': {'RequestId': 'c2bedc23-efc6-4cbe-bf61-948e537b7b78',\n",
       "  'HTTPStatusCode': 200,\n",
       "  'HTTPHeaders': {'x-amzn-requestid': 'c2bedc23-efc6-4cbe-bf61-948e537b7b78',\n",
       "   'content-type': 'application/x-amz-json-1.1',\n",
       "   'content-length': '627',\n",
       "   'date': 'Sun, 25 May 2025 11:33:04 GMT'},\n",
       "  'RetryAttempts': 0}}"
      ]
     },
     "execution_count": 1,
     "metadata": {},
     "output_type": "execute_result"
    }
   ],
   "source": [
    "import boto3\n",
    "\n",
    "sm_client = boto3.client(\"sagemaker\")\n",
    "model_package_group_name = \"MnistModelPackageGroupName\"\n",
    "sm_client.list_model_packages(ModelPackageGroupName=model_package_group_name)"
   ]
  }
 ],
 "metadata": {
  "kernelspec": {
   "display_name": ".venv",
   "language": "python",
   "name": "python3"
  },
  "language_info": {
   "codemirror_mode": {
    "name": "ipython",
    "version": 3
   },
   "file_extension": ".py",
   "mimetype": "text/x-python",
   "name": "python",
   "nbconvert_exporter": "python",
   "pygments_lexer": "ipython3",
   "version": "3.10.17"
  }
 },
 "nbformat": 4,
 "nbformat_minor": 5
}
