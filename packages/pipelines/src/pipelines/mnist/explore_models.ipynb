{
 "cells": [
  {
   "cell_type": "code",
   "execution_count": 2,
   "id": "e6115f1d",
   "metadata": {},
   "outputs": [
    {
     "data": {
      "text/plain": [
       "{'ModelPackageSummaryList': [{'ModelPackageGroupName': 'MnistModelPackageGroupName',\n",
       "   'ModelPackageVersion': 3,\n",
       "   'ModelPackageArn': 'arn:aws:sagemaker:ap-southeast-2:993630082325:model-package/MnistModelPackageGroupName/3',\n",
       "   'CreationTime': datetime.datetime(2025, 5, 25, 23, 42, 55, 853000, tzinfo=tzlocal()),\n",
       "   'ModelPackageStatus': 'Completed',\n",
       "   'ModelApprovalStatus': 'Approved'}],\n",
       " 'ResponseMetadata': {'RequestId': 'fe6524fb-a2f1-4876-97e7-a28d4972c375',\n",
       "  'HTTPStatusCode': 200,\n",
       "  'HTTPHeaders': {'x-amzn-requestid': 'fe6524fb-a2f1-4876-97e7-a28d4972c375',\n",
       "   'content-type': 'application/x-amz-json-1.1',\n",
       "   'content-length': '315',\n",
       "   'date': 'Sun, 25 May 2025 16:07:41 GMT'},\n",
       "  'RetryAttempts': 0}}"
      ]
     },
     "execution_count": 2,
     "metadata": {},
     "output_type": "execute_result"
    }
   ],
   "source": [
    "import boto3\n",
    "\n",
    "sm_client = boto3.client(\"sagemaker\")\n",
    "model_package_group_name = \"MnistModelPackageGroupName\"\n",
    "sm_client.list_model_packages(ModelPackageGroupName=model_package_group_name, ModelApprovalStatus=\"Approved\")"
   ]
  },
  {
   "cell_type": "code",
   "execution_count": 3,
   "id": "809d8e5b",
   "metadata": {},
   "outputs": [
    {
     "data": {
      "text/plain": [
       "{'ModelPackageGroupName': 'MnistModelPackageGroupName',\n",
       " 'ModelPackageVersion': 3,\n",
       " 'ModelPackageArn': 'arn:aws:sagemaker:ap-southeast-2:993630082325:model-package/MnistModelPackageGroupName/3',\n",
       " 'CreationTime': datetime.datetime(2025, 5, 25, 23, 42, 55, 853000, tzinfo=tzlocal()),\n",
       " 'InferenceSpecification': {'Containers': [{'Image': '763104351884.dkr.ecr.ap-southeast-2.amazonaws.com/pytorch-training:2.6-cpu-py312',\n",
       "    'ImageDigest': 'sha256:83d9076ecb7f84d3d293aadc9bc7d56d4d9a70ba534c58f126192448b88fe5b7',\n",
       "    'ModelDataUrl': 's3://sagemaker-ap-southeast-2-993630082325/models/mnist/pipelines-q7lwddalt01t-MINIST-Train-5sHsaJrZoO/output/model.tar.gz',\n",
       "    'Environment': {},\n",
       "    'ModelDataETag': '1293b539410b7f2f9189bf38c094e168-2'}]},\n",
       " 'ModelPackageStatus': 'Completed',\n",
       " 'ModelPackageStatusDetails': {'ValidationStatuses': [],\n",
       "  'ImageScanStatuses': []},\n",
       " 'CertifyForMarketplace': False,\n",
       " 'ModelApprovalStatus': 'Approved',\n",
       " 'CreatedBy': {'IamIdentity': {'Arn': 'arn:aws:sts::993630082325:assumed-role/AmazonSageMaker-ExecutionRole-20250516T191424/sagemaker-pipeline-q7lwddalt01t-MnistRegisterModel-R',\n",
       "   'PrincipalId': 'AROA6OWHX2UKZAXJB5RER:sagemaker-pipeline-q7lwddalt01t-MnistRegisterModel-R'}},\n",
       " 'MetadataProperties': {'GeneratedBy': 'arn:aws:sagemaker:ap-southeast-2:993630082325:pipeline/mnist-pipeline/execution/q7lwddalt01t'},\n",
       " 'ModelMetrics': {'ModelQuality': {'Statistics': {'ContentType': 'application/json',\n",
       "    'S3Uri': 's3://sagemaker-ap-southeast-2-993630082325/MNIST-Pipeline-substeps/mnist-eval-2025-05-25-15-30-21-454/output/evaluation/evaluation.json'}},\n",
       "  'Bias': {},\n",
       "  'Explainability': {}},\n",
       " 'LastModifiedTime': datetime.datetime(2025, 5, 25, 23, 44, 55, 686000, tzinfo=tzlocal()),\n",
       " 'LastModifiedBy': {'UserProfileArn': 'arn:aws:sagemaker:ap-southeast-2:993630082325:user-profile/d-a2xojlzsmfuu/default-20250516T191423',\n",
       "  'UserProfileName': 'default-20250516T191423',\n",
       "  'DomainId': 'd-a2xojlzsmfuu',\n",
       "  'IamIdentity': {'Arn': 'arn:aws:sts::993630082325:assumed-role/AmazonSageMaker-ExecutionRole-20250516T191424/SageMaker',\n",
       "   'PrincipalId': 'AROA6OWHX2UKZAXJB5RER:SageMaker'}},\n",
       " 'ApprovalDescription': 'ok',\n",
       " 'SkipModelValidation': 'None',\n",
       " 'ModelCard': {'ModelCardContent': '{\"training_details\":{\"training_job_details\":{\"training_datasets\":[\"s3://sagemaker-ap-southeast-2-993630082325/MNIST-Pipeline-substeps/MNIST-Pipeline/q7lwddalt01t/MnistProcess/output/train\",\"s3://sagemaker-ap-southeast-2-993630082325/MNIST-Pipeline-substeps/MNIST-Pipeline/q7lwddalt01t/MnistProcess/output/validation\"],\"hyper_parameters\":[{\"name\":\"epochs\",\"value\":\"1\"},{\"name\":\"sagemaker_container_log_level\",\"value\":\"20\"},{\"name\":\"sagemaker_program\",\"value\":\"\\\\\"mnist.py\\\\\"\"},{\"name\":\"sagemaker_region\",\"value\":\"\\\\\"ap-southeast-2\\\\\"\"},{\"name\":\"sagemaker_submit_directory\",\"value\":\"\\\\\"s3://sagemaker-ap-southeast-2-993630082325/pytorch-training-2025-05-25-15-30-31-843/source/sourcedir.tar.gz\\\\\"\"}],\"training_environment\":{\"container_image\":[\"763104351884.dkr.ecr.ap-southeast-2.amazonaws.com/pytorch-training:2.6-cpu-py312\"]},\"training_arn\":\"arn:aws:sagemaker:ap-southeast-2:993630082325:training-job/pipelines-q7lwddalt01t-MINIST-Train-5sHsaJrZoO\"}},\"intended_uses\":{},\"model_overview\":{\"model_artifact\":[\"s3://sagemaker-ap-southeast-2-993630082325/models/mnist/pipelines-q7lwddalt01t-MINIST-Train-5sHsaJrZoO/output/model.tar.gz\"]},\"additional_information\":{},\"business_details\":{}}',\n",
       "  'ModelCardStatus': 'Draft'},\n",
       " 'ResponseMetadata': {'RequestId': '0dc22328-c57e-489f-9bab-e617cf612846',\n",
       "  'HTTPStatusCode': 200,\n",
       "  'HTTPHeaders': {'x-amzn-requestid': '0dc22328-c57e-489f-9bab-e617cf612846',\n",
       "   'content-type': 'application/x-amz-json-1.1',\n",
       "   'content-length': '3274',\n",
       "   'date': 'Sun, 25 May 2025 16:09:15 GMT'},\n",
       "  'RetryAttempts': 0}}"
      ]
     },
     "execution_count": 3,
     "metadata": {},
     "output_type": "execute_result"
    }
   ],
   "source": [
    "sm_client.describe_model_package(\n",
    "    ModelPackageName=\"arn:aws:sagemaker:ap-southeast-2:993630082325:model-package/MnistModelPackageGroupName/3\"\n",
    ")"
   ]
  },
  {
   "cell_type": "code",
   "execution_count": null,
   "id": "8867bf48",
   "metadata": {},
   "outputs": [],
   "source": [
    "'s3://sagemaker-ap-southeast-2-993630082325/models/mnist/pipelines-q7lwddalt01t-MINIST-Train-5sHsaJrZoO/output/model.tar.gz'"
   ]
  }
 ],
 "metadata": {
  "kernelspec": {
   "display_name": ".venv",
   "language": "python",
   "name": "python3"
  },
  "language_info": {
   "codemirror_mode": {
    "name": "ipython",
    "version": 3
   },
   "file_extension": ".py",
   "mimetype": "text/x-python",
   "name": "python",
   "nbconvert_exporter": "python",
   "pygments_lexer": "ipython3",
   "version": "3.10.17"
  }
 },
 "nbformat": 4,
 "nbformat_minor": 5
}
